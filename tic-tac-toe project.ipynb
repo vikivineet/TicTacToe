{
 "cells": [
  {
   "cell_type": "code",
   "execution_count": 1,
   "metadata": {},
   "outputs": [],
   "source": [
    "#1\n",
    "from IPython.display import clear_output\n",
    "def tictac_board(board):\n",
    "    clear_output()\n",
    "    print('   |   |')\n",
    "    print(' ' + board[1] + ' | ' + board[2] + ' | ' + board[3])\n",
    "    print('   |   |')\n",
    "    print('-----------')\n",
    "    print('   |   |')\n",
    "    print(' ' + board[4] + ' | ' + board[5] + ' | ' + board[6])\n",
    "    print('   |   |')\n",
    "    print('-----------')\n",
    "    print('   |   |')\n",
    "    print(' ' + board[7] + ' | ' + board[8] + ' | ' + board[9])\n",
    "    print('   |   |')"
   ]
  },
  {
   "cell_type": "code",
   "execution_count": 2,
   "metadata": {},
   "outputs": [],
   "source": [
    "#2\n",
    "def player_input():\n",
    "    marker=''\n",
    "    while marker != 'X' and marker != 'O':\n",
    "        marker = input(\"Hello Player1,Please select your marker from (X/O): \").upper()\n",
    "        if marker != 'X' and marker != 'O':\n",
    "            print(\"You have choosen something wrong.Plese choose from (X or O).\")\n",
    "        else:\n",
    "            pass\n",
    "    player1 = marker\n",
    "    \n",
    "    if player1 == 'X':\n",
    "        player2 = 'O'\n",
    "        print('As,player1 has already taken marker X.So,Player2 has been alloted with marker O.')\n",
    "    else:\n",
    "        player2 = 'X'\n",
    "        print('As,player1 has already taken marker O.So,Player2 You have been alloted with marker X.')\n",
    "    \n",
    "    return (player1,player2)\n",
    "     "
   ]
  },
  {
   "cell_type": "code",
   "execution_count": 3,
   "metadata": {},
   "outputs": [],
   "source": [
    "#3\n",
    "def place_marker(board,marker,pos):\n",
    "    board[pos]=marker"
   ]
  },
  {
   "cell_type": "code",
   "execution_count": 4,
   "metadata": {},
   "outputs": [],
   "source": [
    "#4\n",
    "def win_check(board,marker):\n",
    "    return ((board[1] == marker and board[2]== marker and board[3]== marker)or #first row\n",
    "           (board[4] == marker and board[5]== marker and board[6]== marker)or  #second row\n",
    "           (board[7] == marker and board[8]== marker and board[9]== marker)or  #third row\n",
    "           (board[1] == marker and board[4]== marker and board[7]== marker)or  #first column\n",
    "           (board[2] == marker and board[5]== marker and board[8]== marker)or  #second column\n",
    "           (board[3] == marker and board[6]== marker and board[9]== marker)or  #third column\n",
    "           (board[1] == marker and board[5]== marker and board[9]== marker)or  #first diagonal\n",
    "           (board[3] == marker and board[5]== marker and board[7]== marker))   #second diagonal"
   ]
  },
  {
   "cell_type": "code",
   "execution_count": 5,
   "metadata": {},
   "outputs": [],
   "source": [
    "#5\n",
    "import random\n",
    "\n",
    "def first_play():\n",
    "\n",
    "    if random.randint(0, 1)==0:\n",
    "        return 'player 2'\n",
    "    else:\n",
    "        return 'player 1'"
   ]
  },
  {
   "cell_type": "code",
   "execution_count": 6,
   "metadata": {},
   "outputs": [],
   "source": [
    "#6\n",
    "def space_check(board,pos):\n",
    "    return board[pos]==' '"
   ]
  },
  {
   "cell_type": "code",
   "execution_count": 7,
   "metadata": {},
   "outputs": [],
   "source": [
    "#7\n",
    "def full_board_check(board):\n",
    "    for i in range(1,10):\n",
    "        if space_check(board,i):\n",
    "            return False\n",
    "    return True"
   ]
  },
  {
   "cell_type": "code",
   "execution_count": 8,
   "metadata": {},
   "outputs": [],
   "source": [
    "#8\n",
    "def position_choose(board):\n",
    "    pos=0\n",
    "    while pos not in [1,2,3,4,5,6,7,8,9] or not space_check(board,pos):\n",
    "        pos=int(input('Enter a position from (1-9) where you want to put your mark: '))\n",
    "        \n",
    "    return pos"
   ]
  },
  {
   "cell_type": "code",
   "execution_count": 9,
   "metadata": {},
   "outputs": [],
   "source": [
    "#9\n",
    "def play_again():\n",
    "    return input('Do you want to play again? Enter Yes or No: ').lower().startswith('y')\n",
    "    "
   ]
  },
  {
   "cell_type": "code",
   "execution_count": 10,
   "metadata": {},
   "outputs": [
    {
     "name": "stdout",
     "output_type": "stream",
     "text": [
      "   |   |\n",
      " O | X | X\n",
      "   |   |\n",
      "-----------\n",
      "   |   |\n",
      " X | O | O\n",
      "   |   |\n",
      "-----------\n",
      "   |   |\n",
      " O | O | X\n",
      "   |   |\n",
      "The game is a draw!\n",
      "Do you want to play again? Enter Yes or No: no\n"
     ]
    }
   ],
   "source": [
    "print(\"Welcome players to Tic Tac Toe! \")\n",
    "\n",
    "while True:\n",
    "    new_board=[' ']*10\n",
    "    p1_marker,p2_marker=player_input()\n",
    "    turn = first_play()\n",
    "    print(turn + ' will make first move.')\n",
    "    \n",
    "    wanna_play=input('Are you ready to play? Yes or No: ')\n",
    "    \n",
    "    if wanna_play.lower()[0]=='y':\n",
    "        game_on = True\n",
    "    else:\n",
    "        game_on = False\n",
    "        \n",
    "    while game_on:\n",
    "        if turn == 'player 1':\n",
    "            tictac_board(new_board)\n",
    "            position=position_choose(new_board)\n",
    "            place_marker(new_board,p1_marker,position)\n",
    "            \n",
    "            if win_check(new_board,p1_marker):\n",
    "                tictac_board(new_board)\n",
    "                print(\"Congratulations! player 1, You have won the game\")\n",
    "                game_on = False\n",
    "                \n",
    "            else:\n",
    "                if full_board_check(new_board):\n",
    "                    tictac_board(new_board)\n",
    "                    print('The game is a draw!')\n",
    "                    break\n",
    "                else:\n",
    "                    turn = 'player 2'\n",
    "                    \n",
    "            \n",
    "        else:\n",
    "            tictac_board(new_board)\n",
    "            position=position_choose(new_board)\n",
    "            place_marker(new_board,p2_marker,position)\n",
    "            \n",
    "            if win_check(new_board,p2_marker):\n",
    "                tictac_board(new_board)\n",
    "                print(\"Congratulations! player 2, You have won the game\")\n",
    "                game_on = False\n",
    "                \n",
    "            else:\n",
    "                if full_board_check(new_board):\n",
    "                    tictac_board(new_board)\n",
    "                    print('The game is a draw!')\n",
    "                    break\n",
    "                else:\n",
    "                    turn = 'player 1'\n",
    "                    \n",
    "                    \n",
    "                    \n",
    "    if not play_again():\n",
    "        break\n",
    "                    \n",
    "                    \n",
    "\n",
    "                 \n",
    "                    \n",
    "                    \n",
    "                \n",
    "            \n",
    "    "
   ]
  }
 ],
 "metadata": {
  "kernelspec": {
   "display_name": "Python 3",
   "language": "python",
   "name": "python3"
  },
  "language_info": {
   "codemirror_mode": {
    "name": "ipython",
    "version": 3
   },
   "file_extension": ".py",
   "mimetype": "text/x-python",
   "name": "python",
   "nbconvert_exporter": "python",
   "pygments_lexer": "ipython3",
   "version": "3.8.5"
  }
 },
 "nbformat": 4,
 "nbformat_minor": 4
}
